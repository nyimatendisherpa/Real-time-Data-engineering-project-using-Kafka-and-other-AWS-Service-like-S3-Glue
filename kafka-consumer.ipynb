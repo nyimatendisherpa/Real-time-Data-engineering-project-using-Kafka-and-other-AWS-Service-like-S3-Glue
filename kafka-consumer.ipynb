{
 "cells": [
  {
   "cell_type": "code",
   "execution_count": null,
   "id": "cf8b460a-7383-47ff-a873-01dd1f33ac6c",
   "metadata": {},
   "outputs": [],
   "source": [
    "# pip install s3fs"
   ]
  },
  {
   "cell_type": "code",
   "execution_count": null,
   "id": "79c20d98-4bf9-4ad0-83aa-584696e62923",
   "metadata": {},
   "outputs": [],
   "source": [
    "import pandas as pd\n",
    "import numpy as np \n",
    "from kafka import  KafkaConsumer\n",
    "import json\n",
    "from json import loads\n",
    "from json import dumps \n",
    "from time import sleep \n",
    "from s3fs import S3FileSystem"
   ]
  },
  {
   "cell_type": "code",
   "execution_count": null,
   "id": "dbc126fb-12a7-46e3-b17d-d541300497c3",
   "metadata": {},
   "outputs": [],
   "source": [
    "consumer=KafkaConsumer(\n",
    "    \"project1\",\n",
    "    bootstrap_servers=[\"13.127.252.94:9092\"],\n",
    "    value_deserializer=lambda x: loads(x.decode('utf-8')))"
   ]
  },
  {
   "cell_type": "code",
   "execution_count": null,
   "id": "c671371c-a3d9-4a51-b265-e3bda6c65324",
   "metadata": {},
   "outputs": [],
   "source": [
    "# for c in consumer:\n",
    "#     print(c.value)"
   ]
  },
  {
   "cell_type": "code",
   "execution_count": null,
   "id": "ee44195b-abc0-4351-84e4-2e9420c2485c",
   "metadata": {},
   "outputs": [],
   "source": [
    "s3=S3FileSystem()"
   ]
  },
  {
   "cell_type": "code",
   "execution_count": null,
   "id": "8855545e-ce48-4cd8-baa9-dd21a008537e",
   "metadata": {},
   "outputs": [],
   "source": [
    "# for count, i in enumerate(consumer):\n",
    "#     print(count)\n",
    "#     print(i.value)"
   ]
  },
  {
   "cell_type": "code",
   "execution_count": null,
   "id": "01cd3877-f884-4f6f-aa70-45c947f09a5a",
   "metadata": {},
   "outputs": [],
   "source": [
    "for count, i in enumerate(consumer):\n",
    "    with s3.open(\"s3://stock-market-kafka-live/stock_market_{}.json\".format(count)\n",
    "                 json.dump(i.value, file)"
   ]
  },
  {
   "cell_type": "code",
   "execution_count": null,
   "id": "b1d85d2e-6331-4ed5-a074-50ec30d136d3",
   "metadata": {},
   "outputs": [],
   "source": []
  }
 ],
 "metadata": {
  "kernelspec": {
   "display_name": "Python [conda env:base] *",
   "language": "python",
   "name": "conda-base-py"
  },
  "language_info": {
   "codemirror_mode": {
    "name": "ipython",
    "version": 3
   },
   "file_extension": ".py",
   "mimetype": "text/x-python",
   "name": "python",
   "nbconvert_exporter": "python",
   "pygments_lexer": "ipython3",
   "version": "3.12.2"
  }
 },
 "nbformat": 4,
 "nbformat_minor": 5
}
