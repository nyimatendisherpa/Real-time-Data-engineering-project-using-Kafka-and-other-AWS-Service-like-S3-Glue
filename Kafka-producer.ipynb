{
 "cells": [
  {
   "cell_type": "code",
   "execution_count": null,
   "id": "e1d9a676-47ca-473b-bbfd-9f9993aaf7e8",
   "metadata": {},
   "outputs": [],
   "source": [
    "pip install s3fs"
   ]
  },
  {
   "cell_type": "code",
   "execution_count": null,
   "id": "21bc242b-64dc-4faa-ba86-38ce7e3905e7",
   "metadata": {},
   "outputs": [],
   "source": [
    "import pandas as pd\n",
    "import numpy as np\n",
    "from json import dumps\n",
    "from time import sleep\n",
    "from kafka import KafkaConsumer, KafkaProducer\n"
   ]
  },
  {
   "cell_type": "code",
   "execution_count": null,
   "id": "9478ae1e-0421-4ab8-8136-eb0dae07d22b",
   "metadata": {},
   "outputs": [],
   "source": [
    "producer=KafkaProducer(bootstrap_servers=['13.127.252.94:9092'],\n",
    "                       value_serializer=lambda x:\n",
    "                       dumps(x).encode('utf-8'))\n"
   ]
  },
  {
   "cell_type": "code",
   "execution_count": null,
   "id": "6d74f12f-c84d-4a6b-b26f-e4ab685e7a33",
   "metadata": {},
   "outputs": [],
   "source": [
    "producer.send(\"project1\", value=\"{'hello':'pasang'}\")"
   ]
  },
  {
   "cell_type": "code",
   "execution_count": null,
   "id": "59c8708c-20c6-4ea7-915d-5febc2449021",
   "metadata": {},
   "outputs": [],
   "source": [
    "df=pd.read_csv(\"Ali_Baba_Stock_Data.csv\")\n",
    "df"
   ]
  },
  {
   "cell_type": "code",
   "execution_count": null,
   "id": "4dd09cc3-0c76-4bef-9cc9-3371f2361524",
   "metadata": {},
   "outputs": [],
   "source": [
    "df.head()"
   ]
  },
  {
   "cell_type": "code",
   "execution_count": null,
   "id": "b33a5de0-dedd-47dd-9102-6f493d1c0f64",
   "metadata": {},
   "outputs": [],
   "source": [
    "df.sample(1)"
   ]
  },
  {
   "cell_type": "code",
   "execution_count": null,
   "id": "8682e976-1e57-46f7-9015-a451f9f4487e",
   "metadata": {},
   "outputs": [],
   "source": [
    "df.sample().to_dict()"
   ]
  },
  {
   "cell_type": "code",
   "execution_count": null,
   "id": "72fd044c-e0e9-4a74-820a-6eb4aa5eceaf",
   "metadata": {},
   "outputs": [],
   "source": [
    "df.sample().to_dict(orient=\"records\")[0]\n"
   ]
  },
  {
   "cell_type": "code",
   "execution_count": null,
   "id": "bcdd8ef8-70db-46e5-ad7d-8c4d9c5dc4ea",
   "metadata": {},
   "outputs": [],
   "source": [
    "while True:\n",
    "    dict_stock=df.sample(1).to_dict(orient=\"records\")[0]\n",
    "    producer.send(\"project1\",value=dict_stock)"
   ]
  },
  {
   "cell_type": "code",
   "execution_count": null,
   "id": "df74c44e-6451-46cc-afa3-b4d55e52841f",
   "metadata": {},
   "outputs": [],
   "source": [
    "df.sample()"
   ]
  }
 ],
 "metadata": {
  "kernelspec": {
   "display_name": "Python [conda env:base] *",
   "language": "python",
   "name": "conda-base-py"
  },
  "language_info": {
   "codemirror_mode": {
    "name": "ipython",
    "version": 3
   },
   "file_extension": ".py",
   "mimetype": "text/x-python",
   "name": "python",
   "nbconvert_exporter": "python",
   "pygments_lexer": "ipython3",
   "version": "3.12.2"
  }
 },
 "nbformat": 4,
 "nbformat_minor": 5
}
